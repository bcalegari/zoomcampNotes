{
 "cells": [
  {
   "cell_type": "markdown",
   "metadata": {},
   "source": [
    "## Question 1. Knowing docker tags\n",
    "Do the same for `docker run`.\n",
    "\n",
    "Which subcommand does this?\n",
    "\n",
    "*Remove one or more images*\n",
    "\n",
    "- `delete`\n",
    "- `rc`\n",
    "- `rmi`\n",
    "- `rm`"
   ]
  },
  {
   "cell_type": "markdown",
   "metadata": {},
   "source": [
    "Answer: rmi\n",
    "\n",
    "```bash\n",
    "docker --help\n",
    "Usage:  docker [OPTIONS] COMMAND\n",
    "\n",
    "A self-sufficient runtime for containers\n",
    "(...)\n",
    "Commands:\n",
    "(...)\n",
    "rmi         Remove one or more images\n",
    "(...)\n",
    "```\n"
   ]
  },
  {
   "cell_type": "markdown",
   "metadata": {},
   "source": [
    "## Question 2. Understanding docker first run \n",
    "\n",
    "Run docker with the `python:3.12.8` image in an interactive mode, use the entrypoint `bash`.\n",
    "\n",
    "What's the version of `pip` in the image?\n",
    "\n",
    "- 24.3.1\n",
    "- 24.2.1\n",
    "- 23.3.1\n",
    "- 23.2.1"
   ]
  },
  {
   "cell_type": "markdown",
   "metadata": {},
   "source": [
    "Answer: 24.3.1\n",
    "\n",
    "```bash\n",
    "docker run -it --entrypoint=bash python:3.12.8\n",
    "\n",
    "Unable to find image 'python:3.12.8' locally\n",
    "3.12.8: Pulling from library/python\n",
    "cc9fb0d581e7: Download complete \n",
    "e3696bf6d1ae: Download complete \n",
    "9668c23f1ccb: Download complete \n",
    "Digest: sha256:251ef8e69b6ccdf3c7bf7effaa51179d59af35364dd9c86469142aa72a2c8cfc\n",
    "Status: Downloaded newer image for python:3.12.8\n",
    "\n",
    "root@157f851a4adc:/# pip --version\n",
    "pip 24.3.1 from /usr/local/lib/python3.12/site-packages/pip (python 3.12)\n",
    "```"
   ]
  },
  {
   "cell_type": "markdown",
   "metadata": {},
   "source": [
    "## Question 3. Count records \n",
    "\n",
    "How many taxi trips were made on October 18th, 2019?\n",
    "\n",
    "(Trips that started and finished on that day) \n",
    "\n",
    "- 13417\n",
    "- 15417\n",
    "- 17417\n",
    "- 19417"
   ]
  },
  {
   "cell_type": "markdown",
   "metadata": {},
   "source": []
  }
 ],
 "metadata": {
  "language_info": {
   "name": "python"
  }
 },
 "nbformat": 4,
 "nbformat_minor": 2
}
