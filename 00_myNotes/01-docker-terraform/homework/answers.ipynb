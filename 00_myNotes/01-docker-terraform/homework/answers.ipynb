{
 "cells": [
  {
   "cell_type": "markdown",
   "metadata": {},
   "source": [
    "## Question 1. Understanding docker first run \n",
    "\n",
    "Run docker with the `python:3.12.8` image in an interactive mode, use the entrypoint `bash`.\n",
    "\n",
    "What's the version of `pip` in the image?\n",
    "\n",
    "- 24.3.1\n",
    "- 24.2.1\n",
    "- 23.3.1\n",
    "- 23.2.1"
   ]
  },
  {
   "cell_type": "markdown",
   "metadata": {},
   "source": [
    "Answer: 24.3.1\n",
    "\n",
    "Explain:\n",
    "```bash\n",
    "docker run -it --entrypoint=bash python:3.12.8\n",
    "\n",
    "Unable to find image 'python:3.12.8' locally\n",
    "3.12.8: Pulling from library/python\n",
    "cc9fb0d581e7: Download complete \n",
    "e3696bf6d1ae: Download complete \n",
    "9668c23f1ccb: Download complete \n",
    "Digest: sha256:251ef8e69b6ccdf3c7bf7effaa51179d59af35364dd9c86469142aa72a2c8cfc\n",
    "Status: Downloaded newer image for python:3.12.8\n",
    "\n",
    "root@157f851a4adc:/# pip --version\n",
    "pip 24.3.1 from /usr/local/lib/python3.12/site-packages/pip (python 3.12)\n",
    "```"
   ]
  },
  {
   "cell_type": "markdown",
   "metadata": {},
   "source": [
    "## Question 2. Understanding Docker networking and docker-compose\n",
    "\n",
    "Given the following `docker-compose.yaml`, what is the `hostname` and `port` that **pgadmin** should use to connect to the postgres database?\n",
    "\n",
    "```yaml\n",
    "services:\n",
    "  db:\n",
    "    container_name: postgres\n",
    "    image: postgres:17-alpine\n",
    "    environment:\n",
    "      POSTGRES_USER: 'postgres'\n",
    "      POSTGRES_PASSWORD: 'postgres'\n",
    "      POSTGRES_DB: 'ny_taxi'\n",
    "    ports:\n",
    "      - '5433:5432'\n",
    "    volumes:\n",
    "      - vol-pgdata:/var/lib/postgresql/data\n",
    "\n",
    "  pgadmin:\n",
    "    container_name: pgadmin\n",
    "    image: dpage/pgadmin4:latest\n",
    "    environment:\n",
    "      PGADMIN_DEFAULT_EMAIL: \"pgadmin@pgadmin.com\"\n",
    "      PGADMIN_DEFAULT_PASSWORD: \"pgadmin\"\n",
    "    ports:\n",
    "      - \"8080:80\"\n",
    "    volumes:\n",
    "      - vol-pgadmin_data:/var/lib/pgadmin  \n",
    "\n",
    "volumes:\n",
    "  vol-pgdata:\n",
    "    name: vol-pgdata\n",
    "  vol-pgadmin_data:\n",
    "    name: vol-pgadmin_data\n",
    "```\n",
    "\n",
    "- postgres:5433\n",
    "- localhost:5432\n",
    "- db:5433\n",
    "- postgres:5432\n",
    "- db:5432"
   ]
  },
  {
   "cell_type": "markdown",
   "metadata": {},
   "source": [
    "Answer: postgres:5432\n",
    "\n",
    "Explain: \n",
    "The container name is 'postgres' and will serve as the hostname for the pgadmin service to cennect to the db.\n",
    "Under the db section is a mapped port '5433:5432'. The port 5432 inside the PostgreSQL container is mapped to port 5433 on the host machine, but pgadmin is running in separated container and should use the internal port 5432.\n"
   ]
  }
 ],
 "metadata": {
  "language_info": {
   "name": "python"
  }
 },
 "nbformat": 4,
 "nbformat_minor": 2
}
