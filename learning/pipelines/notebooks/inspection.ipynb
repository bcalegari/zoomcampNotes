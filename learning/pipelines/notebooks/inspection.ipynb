{
 "cells": [
  {
   "cell_type": "code",
   "execution_count": 1,
   "metadata": {},
   "outputs": [],
   "source": [
    "import pandas as pd \n",
    "import pyarrow.parquet as pq\n",
    "from time import time"
   ]
  },
  {
   "cell_type": "code",
   "execution_count": 2,
   "metadata": {},
   "outputs": [
    {
     "name": "stdout",
     "output_type": "stream",
     "text": [
      "Number of rows in Parquet file: 476386\n",
      "Number of rows in CSV file: 476386\n"
     ]
    },
    {
     "name": "stderr",
     "output_type": "stream",
     "text": [
      "/tmp/ipykernel_31954/698338108.py:9: DtypeWarning: Columns (3) have mixed types. Specify dtype option on import or set low_memory=False.\n",
      "  csv_df = pd.read_csv(csv_file)\n"
     ]
    }
   ],
   "source": [
    "# Read the number of rows in the Parquet file\n",
    "parquet_file = '../resources/green_tripdata_2019-10.parquet'\n",
    "parquet_df = pq.read_table(parquet_file).to_pandas()\n",
    "parquet_rows = len(parquet_df)\n",
    "print(f\"Number of rows in Parquet file: {parquet_rows}\")\n",
    "\n",
    "# Read the number of rows in the CSV file\n",
    "csv_file = '../resources/green_tripdata_2019-10.csv'\n",
    "csv_df = pd.read_csv(csv_file)\n",
    "csv_rows = len(csv_df)\n",
    "print(f\"Number of rows in CSV file: {csv_rows}\")"
   ]
  },
  {
   "cell_type": "code",
   "execution_count": null,
   "metadata": {},
   "outputs": [],
   "source": []
  }
 ],
 "metadata": {
  "kernelspec": {
   "display_name": "base",
   "language": "python",
   "name": "python3"
  },
  "language_info": {
   "codemirror_mode": {
    "name": "ipython",
    "version": 3
   },
   "file_extension": ".py",
   "mimetype": "text/x-python",
   "name": "python",
   "nbconvert_exporter": "python",
   "pygments_lexer": "ipython3",
   "version": "3.12.7"
  }
 },
 "nbformat": 4,
 "nbformat_minor": 2
}
